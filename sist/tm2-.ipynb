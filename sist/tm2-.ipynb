{
 "cells": [
  {
   "cell_type": "markdown",
   "metadata": {},
   "source": [
    "### 1.variables y tipos de datos"
   ]
  },
  {
   "cell_type": "code",
   "execution_count": null,
   "metadata": {},
   "outputs": [],
   "source": [
    "nombre =\"Juan\"\n",
    "edad = 20\n",
    "altura = 1.88\n",
    "es_estudiantes = True"
   ]
  },
  {
   "cell_type": "markdown",
   "metadata": {},
   "source": [
    "## entrada y salida\n",
    "\n"
   ]
  },
  {
   "cell_type": "code",
   "execution_count": null,
   "metadata": {},
   "outputs": [],
   "source": [
    "nombre = input(\"cual es tu nombre\")\n",
    "print(f\"hola,{nombre}!\")"
   ]
  },
  {
   "cell_type": "markdown",
   "metadata": {},
   "source": [
    "## tarea"
   ]
  },
  {
   "cell_type": "code",
   "execution_count": null,
   "metadata": {},
   "outputs": [
    {
     "name": "stdout",
     "output_type": "stream",
     "text": [
      "¡holamau ! pinche anciano tienes23 y sos de chiapayork.\n"
     ]
    }
   ],
   "source": [
    "nombre = input(\"como se llama chiapaneco\")\n",
    "edad = input(\"cuantos años tienes\")\n",
    "ciudad = input(\"de onde eres\")\n",
    "\n",
    "print(f\"¡hola {nombre}! pinche anciano tienes {edad} y sos de {ciudad}.\")"
   ]
  },
  {
   "cell_type": "markdown",
   "metadata": {},
   "source": [
    "## tarea2"
   ]
  },
  {
   "cell_type": "code",
   "execution_count": 3,
   "metadata": {},
   "outputs": [
    {
     "name": "stdout",
     "output_type": "stream",
     "text": [
      "suma: 17.0\n",
      "resta: -1.0\n",
      "multiplicacion: 72.0\n",
      "division: 0.8888888888888888\n"
     ]
    }
   ],
   "source": [
    "num1 = float(input(\"Introducela tu numero\"))\n",
    "num2 = float(input(\"introduce el otro numero\"))\n",
    "\n",
    "print(f\"suma: {num1 + num2}\")\n",
    "print(f\"resta: {num1 - num2}\")\n",
    "print(f\"multiplicacion: {num1 * num2}\")\n",
    "print(f\"division: {num1 / num2}\")"
   ]
  },
  {
   "cell_type": "markdown",
   "metadata": {},
   "source": [
    "##tarea 3"
   ]
  },
  {
   "cell_type": "code",
   "execution_count": 1,
   "metadata": {},
   "outputs": [
    {
     "name": "stdout",
     "output_type": "stream",
     "text": [
      "El número es par.\n"
     ]
    }
   ],
   "source": [
    "numero = int(input(\"Introduce un número: \"))\n",
    "\n",
    "if numero % 2 == 0:\n",
    "    print(\"El número es par.\")\n",
    "else:\n",
    "    print(\"El número es impar.\")"
   ]
  },
  {
   "cell_type": "markdown",
   "metadata": {},
   "source": [
    "tarea 4"
   ]
  },
  {
   "cell_type": "code",
   "execution_count": null,
   "metadata": {},
   "outputs": [],
   "source": [
    "a, b = 0, 1\n",
    "for i in range(10):\n",
    "    print(a)\n",
    "    a, b = b, a+b"
   ]
  },
  {
   "cell_type": "markdown",
   "metadata": {},
   "source": [
    "tarea 5"
   ]
  },
  {
   "cell_type": "code",
   "execution_count": null,
   "metadata": {},
   "outputs": [],
   "source": [
    "n = int(input(\"Introduce un número: \"))\n",
    "suma = 0\n",
    "\n",
    "for i in range(1, n+1):\n",
    "    suma += i\n",
    "\n",
    "print(f\"La suma de los números del 1 al {n} es: {suma}\")"
   ]
  },
  {
   "cell_type": "markdown",
   "metadata": {},
   "source": [
    "%%tarea 6"
   ]
  },
  {
   "cell_type": "code",
   "execution_count": null,
   "metadata": {},
   "outputs": [],
   "source": [
    "def numero_mayor(lista):\n",
    "    return max(lista)\n",
    "\n",
    "numeros = [3, 1, 8, 4, 6]\n",
    "print(numero_mayor(numeros))  # Esto imprimirá \"8\" en la pantalla."
   ]
  },
  {
   "cell_type": "markdown",
   "metadata": {},
   "source": [
    "tarea 7"
   ]
  },
  {
   "cell_type": "code",
   "execution_count": null,
   "metadata": {},
   "outputs": [],
   "source": [
    "def celsius_a_fahrenheit(celsius):\n",
    "    return (celsius * 9/5) + 32\n",
    "\n",
    "grados_c = 25\n",
    "print(celsius_a_fahrenheit(grados_c))  # Esto imprimirá \"77.0\" en la pantalla."
   ]
  },
  {
   "cell_type": "markdown",
   "metadata": {},
   "source": [
    "tarea 8"
   ]
  },
  {
   "cell_type": "code",
   "execution_count": null,
   "metadata": {},
   "outputs": [],
   "source": [
    "area_rectangulo = lambda largo, ancho: largo * ancho\n",
    "\n",
    "l = 5\n",
    "a = 3\n",
    "print(area_rectangulo(l, a))  # Esto imprimirá \"15\" en la pantalla."
   ]
  },
  {
   "cell_type": "markdown",
   "metadata": {},
   "source": [
    "tarea 9"
   ]
  },
  {
   "cell_type": "code",
   "execution_count": null,
   "metadata": {},
   "outputs": [],
   "source": [
    "peliculas = [\"El Padrino\", \"Matrix\", \"Forrest Gump\"]\n",
    "print(peliculas[2])  # Imprime \"Forrest Gump\""
   ]
  },
  {
   "cell_type": "markdown",
   "metadata": {},
   "source": [
    "tarea 10"
   ]
  },
  {
   "cell_type": "code",
   "execution_count": null,
   "metadata": {},
   "outputs": [],
   "source": [
    "calificaciones = {\n",
    "    \"matemáticas\": 90,\n",
    "    \"historia\": 85,\n",
    "    \"física\": 78,\n",
    "    \"química\": 93\n",
    "}\n",
    "\n",
    "promedio = sum(calificaciones.values()) / len(calificaciones)\n",
    "print(f\"El promedio es: {promedio}\")"
   ]
  },
  {
   "cell_type": "markdown",
   "metadata": {},
   "source": [
    "tarea 11"
   ]
  },
  {
   "cell_type": "code",
   "execution_count": null,
   "metadata": {},
   "outputs": [],
   "source": [
    "hobbies = {\"leer\", \"correr\", \"cocinar\"}\n",
    "hobbies.add(\"bailar\")\n",
    "print(hobbies)"
   ]
  },
  {
   "cell_type": "markdown",
   "metadata": {},
   "source": [
    "tema 6"
   ]
  },
  {
   "cell_type": "code",
   "execution_count": null,
   "metadata": {},
   "outputs": [],
   "source": [
    "flores = (\"rosas\",\"margaritas\")\n",
    "animal = [\"perrs\",\"gatos\"]\n",
    "print(flores)\n",
    "print(animal[0])\n",
    "print(flores[1])\n",
    "flores[0] = \"girasol\"\n",
    "\n",
    "try:\n",
    "    flores[0] = \"girasol\"\n",
    "    "
   ]
  },
  {
   "cell_type": "code",
   "execution_count": 2,
   "metadata": {},
   "outputs": [
    {
     "name": "stdout",
     "output_type": "stream",
     "text": [
      "Debes ingresar un número válido.\n"
     ]
    }
   ],
   "source": [
    "try:\n",
    "    numero = int(input(\"Introduce un número: \"))\n",
    "    resultado = 10 / numero\n",
    "    print(resultado)\n",
    "except ZeroDivisionError:\n",
    "    print(\"No puedes dividir por cero.\")\n",
    "except ValueError:\n",
    "    print(\"Debes ingresar un número válido.\")"
   ]
  },
  {
   "cell_type": "code",
   "execution_count": null,
   "metadata": {},
   "outputs": [],
   "source": [
    "try:\n",
    "    numero = int(input(\"Introduce un número: \"))\n",
    "except ValueError:\n",
    "    print(\"Debes ingresar un número válido.\")\n",
    "else:\n",
    "    print(f\"Has introducido el número {numero}.\")"
   ]
  },
  {
   "cell_type": "code",
   "execution_count": null,
   "metadata": {},
   "outputs": [],
   "source": [
    "try:\n",
    "    f = open(\"archivo.txt\")\n",
    "    # procesar el archivo\n",
    "except FileNotFoundError:\n",
    "    print(\"El archivo no se encuentra.\")\n",
    "finally:\n",
    "    f.close()"
   ]
  },
  {
   "cell_type": "code",
   "execution_count": null,
   "metadata": {},
   "outputs": [
    {
     "name": "stdout",
     "output_type": "stream",
     "text": [
      "Error: No se puede dividir por cero en el segundo número.\n"
     ]
    },
    {
     "ename": "SystemExit",
     "evalue": "",
     "output_type": "error",
     "traceback": [
      "An exception has occurred, use %tb to see the full traceback.\n",
      "\u001b[1;31mSystemExit\u001b[0m\n"
     ]
    }
   ],
   "source": [
    "import sys  \n",
    "\n",
    "try:\n",
    "    nume1 = float(input(\"Ingrese el primer número: \"))\n",
    "except ValueError:\n",
    "    print(\"Error en el primer número: ese no es un número válido.\")\n",
    "    sys.exit()\n",
    "\n",
    "try:\n",
    "    nume2 = float(input(\"Ingrese el segundo número: \"))\n",
    "    if nume2 == 0:\n",
    "        print(\"Error: No se puede dividir por cero en el segundo número.\")\n",
    "        sys.exit()\n",
    "except ValueError:\n",
    "    print(\"Error en el segundo número: ese no es un número válido.\")\n",
    "    sys.exit()\n",
    "\n",
    "try:\n",
    "    nume3 = float(input(\"Ingrese el tercer número: \"))\n",
    "    if nume3 == 0:\n",
    "        print(\"Error: No se puede dividir por cero en el tercer número.\")\n",
    "        sys.exit()\n",
    "except ValueError:\n",
    "    print(\"Error en el tercer número: ese no es un número válido.\")\n",
    "    sys.exit()\n",
    "\n",
    "\n",
    "resultado = nume1 / nume2 / nume3\n",
    "print(f\"El resultado es: {resultado}\")"
   ]
  }
 ],
 "metadata": {
  "kernelspec": {
   "display_name": "Python 3",
   "language": "python",
   "name": "python3"
  },
  "language_info": {
   "codemirror_mode": {
    "name": "ipython",
    "version": 3
   },
   "file_extension": ".py",
   "mimetype": "text/x-python",
   "name": "python",
   "nbconvert_exporter": "python",
   "pygments_lexer": "ipython3",
   "version": "3.12.4"
  }
 },
 "nbformat": 4,
 "nbformat_minor": 2
}
